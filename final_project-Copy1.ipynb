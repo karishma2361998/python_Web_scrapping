{
 "cells": [
  {
   "cell_type": "markdown",
   "id": "42a90209",
   "metadata": {},
   "source": [
    "# Import all necessary libraries"
   ]
  },
  {
   "cell_type": "code",
   "execution_count": 71,
   "id": "bfbfd25f",
   "metadata": {},
   "outputs": [],
   "source": [
    "import requests\n",
    "from bs4 import BeautifulSoup\n",
    "import csv\n",
    "import pandas as pd\n",
    "import numpy as np\n",
    "import matplotlib.pyplot as plt\n",
    "import seaborn as sns\n",
    "import warnings\n",
    "warnings.filterwarnings('ignore')\n"
   ]
  },
  {
   "cell_type": "markdown",
   "id": "813de25e",
   "metadata": {},
   "source": [
    "# Extraction of data"
   ]
  },
  {
   "cell_type": "code",
   "execution_count": 31,
   "id": "d954700b",
   "metadata": {},
   "outputs": [],
   "source": [
    "data_list=[]\n",
    "for i in range(10,181,10):\n",
    "    \n",
    "    resp=requests.get('https://in.indeed.com/jobs?q=Data%20Science&start={}&vjk=f0e7efd8776dc46a'.format(i))\n",
    "    resp.content\n",
    "    soup=BeautifulSoup(resp.content,'html.parser')\n",
    "    soup.prettify()\n",
    "    jobs=soup.find_all('div',attrs={'class':\"job_seen_beacon\"})\n",
    "    \n",
    "    for job in jobs:\n",
    "        temp_dict={}\n",
    "        for span in job.h2.find_all(\"span\"):\n",
    "            if(span.find(\"class\")):\n",
    "                continue\n",
    "            else:    \n",
    "                temp_dict['profile']= span.text.replace('\\n','')\n",
    "        \n",
    "        temp_dict['company']=job.find('span',attrs={'class':'companyName'}).text.replace('\\n','')\n",
    "\n",
    "        try:\n",
    "            temp_dict['rating']=job.find('span',attrs={'class':'ratingNumber'}).text.replace('\\n','')\n",
    "        except Exception as e:\n",
    "            rating='Null'  \n",
    "        temp_dict['location']=job.find('div',attrs={'class':'companyLocation'}).text.replace('\\n','') \n",
    "\n",
    "        salary=job.find('div',attrs={'class':'salary-snippet'})\n",
    "        try:\n",
    "            temp_dict['salary']=salary.span.text.replace('\\n','')\n",
    "\n",
    "        except Exception as e:\n",
    "            salary='Null'\n",
    "        data_list.append(temp_dict)\n",
    "        \n",
    "job_list = pd.DataFrame(data_list)\n",
    "\n"
   ]
  },
  {
   "cell_type": "code",
   "execution_count": 32,
   "id": "46bf7197",
   "metadata": {},
   "outputs": [],
   "source": [
    "#save the data in csv file.\n",
    "job_list.to_csv(\"D:\\\\project\\\\.data_job.csv\")"
   ]
  },
  {
   "cell_type": "code",
   "execution_count": 103,
   "id": "1a91233f",
   "metadata": {},
   "outputs": [
    {
     "data": {
      "text/html": [
       "<div>\n",
       "<style scoped>\n",
       "    .dataframe tbody tr th:only-of-type {\n",
       "        vertical-align: middle;\n",
       "    }\n",
       "\n",
       "    .dataframe tbody tr th {\n",
       "        vertical-align: top;\n",
       "    }\n",
       "\n",
       "    .dataframe thead th {\n",
       "        text-align: right;\n",
       "    }\n",
       "</style>\n",
       "<table border=\"1\" class=\"dataframe\">\n",
       "  <thead>\n",
       "    <tr style=\"text-align: right;\">\n",
       "      <th></th>\n",
       "      <th>Unnamed: 0</th>\n",
       "      <th>profile</th>\n",
       "      <th>company</th>\n",
       "      <th>rating</th>\n",
       "      <th>location</th>\n",
       "      <th>salary</th>\n",
       "    </tr>\n",
       "  </thead>\n",
       "  <tbody>\n",
       "    <tr>\n",
       "      <th>0</th>\n",
       "      <td>0</td>\n",
       "      <td>Associate Analyst - Quality Control</td>\n",
       "      <td>Johnson &amp; Johnson Family of Companies</td>\n",
       "      <td>4.2</td>\n",
       "      <td>Mumbai, Maharashtra</td>\n",
       "      <td>NaN</td>\n",
       "    </tr>\n",
       "    <tr>\n",
       "      <th>1</th>\n",
       "      <td>1</td>\n",
       "      <td>Data science || Freelancer</td>\n",
       "      <td>Logiccircle Pvt Ltd</td>\n",
       "      <td>NaN</td>\n",
       "      <td>Noida, Uttar Pradesh•Remote</td>\n",
       "      <td>NaN</td>\n",
       "    </tr>\n",
       "    <tr>\n",
       "      <th>2</th>\n",
       "      <td>2</td>\n",
       "      <td>Design and Development Associate</td>\n",
       "      <td>Life-Lab</td>\n",
       "      <td>NaN</td>\n",
       "      <td>Pune, Maharashtra•Remote</td>\n",
       "      <td>₹20,000 - ₹30,000 a month</td>\n",
       "    </tr>\n",
       "    <tr>\n",
       "      <th>3</th>\n",
       "      <td>3</td>\n",
       "      <td>JUNIOR DATA ANALYST – INTERNSHIP</td>\n",
       "      <td>impress.ai</td>\n",
       "      <td>NaN</td>\n",
       "      <td>India</td>\n",
       "      <td>NaN</td>\n",
       "    </tr>\n",
       "    <tr>\n",
       "      <th>4</th>\n",
       "      <td>4</td>\n",
       "      <td>Data Analyst_Research, Excel</td>\n",
       "      <td>Springer Nature</td>\n",
       "      <td>3.6</td>\n",
       "      <td>Pune, Maharashtra</td>\n",
       "      <td>NaN</td>\n",
       "    </tr>\n",
       "    <tr>\n",
       "      <th>...</th>\n",
       "      <td>...</td>\n",
       "      <td>...</td>\n",
       "      <td>...</td>\n",
       "      <td>...</td>\n",
       "      <td>...</td>\n",
       "      <td>...</td>\n",
       "    </tr>\n",
       "    <tr>\n",
       "      <th>265</th>\n",
       "      <td>265</td>\n",
       "      <td>Associate Analyst - OCT - Remote, WFH (Based i...</td>\n",
       "      <td>Larvol</td>\n",
       "      <td>NaN</td>\n",
       "      <td>Remote</td>\n",
       "      <td>NaN</td>\n",
       "    </tr>\n",
       "    <tr>\n",
       "      <th>266</th>\n",
       "      <td>266</td>\n",
       "      <td>Senior Analyst- APLD, Data Science</td>\n",
       "      <td>Novartis</td>\n",
       "      <td>4.1</td>\n",
       "      <td>Hyderabad, Telangana</td>\n",
       "      <td>NaN</td>\n",
       "    </tr>\n",
       "    <tr>\n",
       "      <th>267</th>\n",
       "      <td>267</td>\n",
       "      <td>Software Development Engineer II</td>\n",
       "      <td>Ola Cabs</td>\n",
       "      <td>3.6</td>\n",
       "      <td>Bengaluru, Karnataka</td>\n",
       "      <td>NaN</td>\n",
       "    </tr>\n",
       "    <tr>\n",
       "      <th>268</th>\n",
       "      <td>268</td>\n",
       "      <td>Assistant Professor in Computer Science</td>\n",
       "      <td>Lingaya's Vidyapeeth</td>\n",
       "      <td>5.0</td>\n",
       "      <td>Faridabad, Haryana</td>\n",
       "      <td>₹30,000 - ₹70,000 a month</td>\n",
       "    </tr>\n",
       "    <tr>\n",
       "      <th>269</th>\n",
       "      <td>269</td>\n",
       "      <td>Data Scientist I</td>\n",
       "      <td>EagleView</td>\n",
       "      <td>NaN</td>\n",
       "      <td>Bengaluru, Karnataka</td>\n",
       "      <td>NaN</td>\n",
       "    </tr>\n",
       "  </tbody>\n",
       "</table>\n",
       "<p>270 rows × 6 columns</p>\n",
       "</div>"
      ],
      "text/plain": [
       "     Unnamed: 0                                            profile  \\\n",
       "0             0                Associate Analyst - Quality Control   \n",
       "1             1                         Data science || Freelancer   \n",
       "2             2                   Design and Development Associate   \n",
       "3             3                   JUNIOR DATA ANALYST – INTERNSHIP   \n",
       "4             4                       Data Analyst_Research, Excel   \n",
       "..          ...                                                ...   \n",
       "265         265  Associate Analyst - OCT - Remote, WFH (Based i...   \n",
       "266         266                 Senior Analyst- APLD, Data Science   \n",
       "267         267                   Software Development Engineer II   \n",
       "268         268            Assistant Professor in Computer Science   \n",
       "269         269                                   Data Scientist I   \n",
       "\n",
       "                                   company  rating  \\\n",
       "0    Johnson & Johnson Family of Companies     4.2   \n",
       "1                      Logiccircle Pvt Ltd     NaN   \n",
       "2                                 Life-Lab     NaN   \n",
       "3                               impress.ai     NaN   \n",
       "4                          Springer Nature     3.6   \n",
       "..                                     ...     ...   \n",
       "265                                 Larvol     NaN   \n",
       "266                               Novartis     4.1   \n",
       "267                               Ola Cabs     3.6   \n",
       "268                   Lingaya's Vidyapeeth     5.0   \n",
       "269                              EagleView     NaN   \n",
       "\n",
       "                        location                     salary  \n",
       "0            Mumbai, Maharashtra                        NaN  \n",
       "1    Noida, Uttar Pradesh•Remote                        NaN  \n",
       "2       Pune, Maharashtra•Remote  ₹20,000 - ₹30,000 a month  \n",
       "3                          India                        NaN  \n",
       "4              Pune, Maharashtra                        NaN  \n",
       "..                           ...                        ...  \n",
       "265                       Remote                        NaN  \n",
       "266         Hyderabad, Telangana                        NaN  \n",
       "267         Bengaluru, Karnataka                        NaN  \n",
       "268           Faridabad, Haryana  ₹30,000 - ₹70,000 a month  \n",
       "269         Bengaluru, Karnataka                        NaN  \n",
       "\n",
       "[270 rows x 6 columns]"
      ]
     },
     "execution_count": 103,
     "metadata": {},
     "output_type": "execute_result"
    }
   ],
   "source": [
    "#read the csv file \n",
    "df=pd.read_csv('D:\\\\project\\\\.data_job.csv')\n",
    "df"
   ]
  },
  {
   "cell_type": "markdown",
   "id": "87d983a3",
   "metadata": {},
   "source": [
    "# Data Cleaning "
   ]
  },
  {
   "cell_type": "code",
   "execution_count": 104,
   "id": "22f7b1cc",
   "metadata": {},
   "outputs": [
    {
     "data": {
      "text/html": [
       "<div>\n",
       "<style scoped>\n",
       "    .dataframe tbody tr th:only-of-type {\n",
       "        vertical-align: middle;\n",
       "    }\n",
       "\n",
       "    .dataframe tbody tr th {\n",
       "        vertical-align: top;\n",
       "    }\n",
       "\n",
       "    .dataframe thead th {\n",
       "        text-align: right;\n",
       "    }\n",
       "</style>\n",
       "<table border=\"1\" class=\"dataframe\">\n",
       "  <thead>\n",
       "    <tr style=\"text-align: right;\">\n",
       "      <th></th>\n",
       "      <th>Unnamed: 0</th>\n",
       "      <th>profile</th>\n",
       "      <th>company</th>\n",
       "      <th>rating</th>\n",
       "      <th>location</th>\n",
       "      <th>salary</th>\n",
       "      <th>Remote_location</th>\n",
       "    </tr>\n",
       "  </thead>\n",
       "  <tbody>\n",
       "    <tr>\n",
       "      <th>0</th>\n",
       "      <td>0</td>\n",
       "      <td>Associate Analyst - Quality Control</td>\n",
       "      <td>Johnson &amp; Johnson Family of Companies</td>\n",
       "      <td>4.2</td>\n",
       "      <td>Mumbai, Maharashtra</td>\n",
       "      <td>NaN</td>\n",
       "      <td>Office</td>\n",
       "    </tr>\n",
       "    <tr>\n",
       "      <th>1</th>\n",
       "      <td>1</td>\n",
       "      <td>Data science || Freelancer</td>\n",
       "      <td>Logiccircle Pvt Ltd</td>\n",
       "      <td>NaN</td>\n",
       "      <td>Noida, Uttar Pradesh•Remote</td>\n",
       "      <td>NaN</td>\n",
       "      <td>Remote</td>\n",
       "    </tr>\n",
       "    <tr>\n",
       "      <th>2</th>\n",
       "      <td>2</td>\n",
       "      <td>Design and Development Associate</td>\n",
       "      <td>Life-Lab</td>\n",
       "      <td>NaN</td>\n",
       "      <td>Pune, Maharashtra•Remote</td>\n",
       "      <td>₹20,000 - ₹30,000 a month</td>\n",
       "      <td>Remote</td>\n",
       "    </tr>\n",
       "    <tr>\n",
       "      <th>3</th>\n",
       "      <td>3</td>\n",
       "      <td>JUNIOR DATA ANALYST – INTERNSHIP</td>\n",
       "      <td>impress.ai</td>\n",
       "      <td>NaN</td>\n",
       "      <td>India</td>\n",
       "      <td>NaN</td>\n",
       "      <td>Office</td>\n",
       "    </tr>\n",
       "    <tr>\n",
       "      <th>4</th>\n",
       "      <td>4</td>\n",
       "      <td>Data Analyst_Research, Excel</td>\n",
       "      <td>Springer Nature</td>\n",
       "      <td>3.6</td>\n",
       "      <td>Pune, Maharashtra</td>\n",
       "      <td>NaN</td>\n",
       "      <td>Office</td>\n",
       "    </tr>\n",
       "    <tr>\n",
       "      <th>...</th>\n",
       "      <td>...</td>\n",
       "      <td>...</td>\n",
       "      <td>...</td>\n",
       "      <td>...</td>\n",
       "      <td>...</td>\n",
       "      <td>...</td>\n",
       "      <td>...</td>\n",
       "    </tr>\n",
       "    <tr>\n",
       "      <th>265</th>\n",
       "      <td>265</td>\n",
       "      <td>Associate Analyst - OCT - Remote, WFH (Based i...</td>\n",
       "      <td>Larvol</td>\n",
       "      <td>NaN</td>\n",
       "      <td>Remote</td>\n",
       "      <td>NaN</td>\n",
       "      <td>Remote</td>\n",
       "    </tr>\n",
       "    <tr>\n",
       "      <th>266</th>\n",
       "      <td>266</td>\n",
       "      <td>Senior Analyst- APLD, Data Science</td>\n",
       "      <td>Novartis</td>\n",
       "      <td>4.1</td>\n",
       "      <td>Hyderabad, Telangana</td>\n",
       "      <td>NaN</td>\n",
       "      <td>Office</td>\n",
       "    </tr>\n",
       "    <tr>\n",
       "      <th>267</th>\n",
       "      <td>267</td>\n",
       "      <td>Software Development Engineer II</td>\n",
       "      <td>Ola Cabs</td>\n",
       "      <td>3.6</td>\n",
       "      <td>Bengaluru, Karnataka</td>\n",
       "      <td>NaN</td>\n",
       "      <td>Office</td>\n",
       "    </tr>\n",
       "    <tr>\n",
       "      <th>268</th>\n",
       "      <td>268</td>\n",
       "      <td>Assistant Professor in Computer Science</td>\n",
       "      <td>Lingaya's Vidyapeeth</td>\n",
       "      <td>5.0</td>\n",
       "      <td>Faridabad, Haryana</td>\n",
       "      <td>₹30,000 - ₹70,000 a month</td>\n",
       "      <td>Office</td>\n",
       "    </tr>\n",
       "    <tr>\n",
       "      <th>269</th>\n",
       "      <td>269</td>\n",
       "      <td>Data Scientist I</td>\n",
       "      <td>EagleView</td>\n",
       "      <td>NaN</td>\n",
       "      <td>Bengaluru, Karnataka</td>\n",
       "      <td>NaN</td>\n",
       "      <td>Office</td>\n",
       "    </tr>\n",
       "  </tbody>\n",
       "</table>\n",
       "<p>270 rows × 7 columns</p>\n",
       "</div>"
      ],
      "text/plain": [
       "     Unnamed: 0                                            profile  \\\n",
       "0             0                Associate Analyst - Quality Control   \n",
       "1             1                         Data science || Freelancer   \n",
       "2             2                   Design and Development Associate   \n",
       "3             3                   JUNIOR DATA ANALYST – INTERNSHIP   \n",
       "4             4                       Data Analyst_Research, Excel   \n",
       "..          ...                                                ...   \n",
       "265         265  Associate Analyst - OCT - Remote, WFH (Based i...   \n",
       "266         266                 Senior Analyst- APLD, Data Science   \n",
       "267         267                   Software Development Engineer II   \n",
       "268         268            Assistant Professor in Computer Science   \n",
       "269         269                                   Data Scientist I   \n",
       "\n",
       "                                   company  rating  \\\n",
       "0    Johnson & Johnson Family of Companies     4.2   \n",
       "1                      Logiccircle Pvt Ltd     NaN   \n",
       "2                                 Life-Lab     NaN   \n",
       "3                               impress.ai     NaN   \n",
       "4                          Springer Nature     3.6   \n",
       "..                                     ...     ...   \n",
       "265                                 Larvol     NaN   \n",
       "266                               Novartis     4.1   \n",
       "267                               Ola Cabs     3.6   \n",
       "268                   Lingaya's Vidyapeeth     5.0   \n",
       "269                              EagleView     NaN   \n",
       "\n",
       "                        location                     salary Remote_location  \n",
       "0            Mumbai, Maharashtra                        NaN          Office  \n",
       "1    Noida, Uttar Pradesh•Remote                        NaN          Remote  \n",
       "2       Pune, Maharashtra•Remote  ₹20,000 - ₹30,000 a month          Remote  \n",
       "3                          India                        NaN          Office  \n",
       "4              Pune, Maharashtra                        NaN          Office  \n",
       "..                           ...                        ...             ...  \n",
       "265                       Remote                        NaN          Remote  \n",
       "266         Hyderabad, Telangana                        NaN          Office  \n",
       "267         Bengaluru, Karnataka                        NaN          Office  \n",
       "268           Faridabad, Haryana  ₹30,000 - ₹70,000 a month          Office  \n",
       "269         Bengaluru, Karnataka                        NaN          Office  \n",
       "\n",
       "[270 rows x 7 columns]"
      ]
     },
     "execution_count": 104,
     "metadata": {},
     "output_type": "execute_result"
    }
   ],
   "source": [
    "Remote_location=[]\n",
    "for i in range(0,270):\n",
    "    str1 = df['location'][i]\n",
    "    str2 = str1.split() \n",
    "    str2=\"\".join(str2)\n",
    "\n",
    "    if 'Remote' in str2: \n",
    "        Remote_location.append(\"Remote\")\n",
    "    else:\n",
    "        Remote_location.append(\"Office\")\n",
    "        \n",
    "        \n",
    "df[\"Remote_location\"]=Remote_location   \n",
    "df    \n",
    "    "
   ]
  },
  {
   "cell_type": "code",
   "execution_count": 105,
   "id": "109cfd54",
   "metadata": {},
   "outputs": [
    {
     "data": {
      "text/html": [
       "<div>\n",
       "<style scoped>\n",
       "    .dataframe tbody tr th:only-of-type {\n",
       "        vertical-align: middle;\n",
       "    }\n",
       "\n",
       "    .dataframe tbody tr th {\n",
       "        vertical-align: top;\n",
       "    }\n",
       "\n",
       "    .dataframe thead th {\n",
       "        text-align: right;\n",
       "    }\n",
       "</style>\n",
       "<table border=\"1\" class=\"dataframe\">\n",
       "  <thead>\n",
       "    <tr style=\"text-align: right;\">\n",
       "      <th></th>\n",
       "      <th>Unnamed: 0</th>\n",
       "      <th>profile</th>\n",
       "      <th>company</th>\n",
       "      <th>rating</th>\n",
       "      <th>location</th>\n",
       "      <th>salary</th>\n",
       "      <th>Remote_location</th>\n",
       "      <th>new_salary</th>\n",
       "    </tr>\n",
       "  </thead>\n",
       "  <tbody>\n",
       "    <tr>\n",
       "      <th>0</th>\n",
       "      <td>0</td>\n",
       "      <td>Associate Analyst - Quality Control</td>\n",
       "      <td>Johnson &amp; Johnson Family of Companies</td>\n",
       "      <td>4.2</td>\n",
       "      <td>Mumbai, Maharashtra</td>\n",
       "      <td>NaN</td>\n",
       "      <td>Office</td>\n",
       "      <td>NaN</td>\n",
       "    </tr>\n",
       "    <tr>\n",
       "      <th>1</th>\n",
       "      <td>1</td>\n",
       "      <td>Data science || Freelancer</td>\n",
       "      <td>Logiccircle Pvt Ltd</td>\n",
       "      <td>NaN</td>\n",
       "      <td>Noida, Uttar Pradesh•Remote</td>\n",
       "      <td>NaN</td>\n",
       "      <td>Remote</td>\n",
       "      <td>NaN</td>\n",
       "    </tr>\n",
       "    <tr>\n",
       "      <th>2</th>\n",
       "      <td>2</td>\n",
       "      <td>Design and Development Associate</td>\n",
       "      <td>Life-Lab</td>\n",
       "      <td>NaN</td>\n",
       "      <td>Pune, Maharashtra•Remote</td>\n",
       "      <td>₹20,000 - ₹30,000 a month</td>\n",
       "      <td>Remote</td>\n",
       "      <td>25000.0</td>\n",
       "    </tr>\n",
       "    <tr>\n",
       "      <th>3</th>\n",
       "      <td>3</td>\n",
       "      <td>JUNIOR DATA ANALYST – INTERNSHIP</td>\n",
       "      <td>impress.ai</td>\n",
       "      <td>NaN</td>\n",
       "      <td>India</td>\n",
       "      <td>NaN</td>\n",
       "      <td>Office</td>\n",
       "      <td>NaN</td>\n",
       "    </tr>\n",
       "    <tr>\n",
       "      <th>4</th>\n",
       "      <td>4</td>\n",
       "      <td>Data Analyst_Research, Excel</td>\n",
       "      <td>Springer Nature</td>\n",
       "      <td>3.6</td>\n",
       "      <td>Pune, Maharashtra</td>\n",
       "      <td>NaN</td>\n",
       "      <td>Office</td>\n",
       "      <td>NaN</td>\n",
       "    </tr>\n",
       "    <tr>\n",
       "      <th>...</th>\n",
       "      <td>...</td>\n",
       "      <td>...</td>\n",
       "      <td>...</td>\n",
       "      <td>...</td>\n",
       "      <td>...</td>\n",
       "      <td>...</td>\n",
       "      <td>...</td>\n",
       "      <td>...</td>\n",
       "    </tr>\n",
       "    <tr>\n",
       "      <th>265</th>\n",
       "      <td>265</td>\n",
       "      <td>Associate Analyst - OCT - Remote, WFH (Based i...</td>\n",
       "      <td>Larvol</td>\n",
       "      <td>NaN</td>\n",
       "      <td>Remote</td>\n",
       "      <td>NaN</td>\n",
       "      <td>Remote</td>\n",
       "      <td>NaN</td>\n",
       "    </tr>\n",
       "    <tr>\n",
       "      <th>266</th>\n",
       "      <td>266</td>\n",
       "      <td>Senior Analyst- APLD, Data Science</td>\n",
       "      <td>Novartis</td>\n",
       "      <td>4.1</td>\n",
       "      <td>Hyderabad, Telangana</td>\n",
       "      <td>NaN</td>\n",
       "      <td>Office</td>\n",
       "      <td>NaN</td>\n",
       "    </tr>\n",
       "    <tr>\n",
       "      <th>267</th>\n",
       "      <td>267</td>\n",
       "      <td>Software Development Engineer II</td>\n",
       "      <td>Ola Cabs</td>\n",
       "      <td>3.6</td>\n",
       "      <td>Bengaluru, Karnataka</td>\n",
       "      <td>NaN</td>\n",
       "      <td>Office</td>\n",
       "      <td>NaN</td>\n",
       "    </tr>\n",
       "    <tr>\n",
       "      <th>268</th>\n",
       "      <td>268</td>\n",
       "      <td>Assistant Professor in Computer Science</td>\n",
       "      <td>Lingaya's Vidyapeeth</td>\n",
       "      <td>5.0</td>\n",
       "      <td>Faridabad, Haryana</td>\n",
       "      <td>₹30,000 - ₹70,000 a month</td>\n",
       "      <td>Office</td>\n",
       "      <td>50000.0</td>\n",
       "    </tr>\n",
       "    <tr>\n",
       "      <th>269</th>\n",
       "      <td>269</td>\n",
       "      <td>Data Scientist I</td>\n",
       "      <td>EagleView</td>\n",
       "      <td>NaN</td>\n",
       "      <td>Bengaluru, Karnataka</td>\n",
       "      <td>NaN</td>\n",
       "      <td>Office</td>\n",
       "      <td>NaN</td>\n",
       "    </tr>\n",
       "  </tbody>\n",
       "</table>\n",
       "<p>270 rows × 8 columns</p>\n",
       "</div>"
      ],
      "text/plain": [
       "     Unnamed: 0                                            profile  \\\n",
       "0             0                Associate Analyst - Quality Control   \n",
       "1             1                         Data science || Freelancer   \n",
       "2             2                   Design and Development Associate   \n",
       "3             3                   JUNIOR DATA ANALYST – INTERNSHIP   \n",
       "4             4                       Data Analyst_Research, Excel   \n",
       "..          ...                                                ...   \n",
       "265         265  Associate Analyst - OCT - Remote, WFH (Based i...   \n",
       "266         266                 Senior Analyst- APLD, Data Science   \n",
       "267         267                   Software Development Engineer II   \n",
       "268         268            Assistant Professor in Computer Science   \n",
       "269         269                                   Data Scientist I   \n",
       "\n",
       "                                   company  rating  \\\n",
       "0    Johnson & Johnson Family of Companies     4.2   \n",
       "1                      Logiccircle Pvt Ltd     NaN   \n",
       "2                                 Life-Lab     NaN   \n",
       "3                               impress.ai     NaN   \n",
       "4                          Springer Nature     3.6   \n",
       "..                                     ...     ...   \n",
       "265                                 Larvol     NaN   \n",
       "266                               Novartis     4.1   \n",
       "267                               Ola Cabs     3.6   \n",
       "268                   Lingaya's Vidyapeeth     5.0   \n",
       "269                              EagleView     NaN   \n",
       "\n",
       "                        location                     salary Remote_location  \\\n",
       "0            Mumbai, Maharashtra                        NaN          Office   \n",
       "1    Noida, Uttar Pradesh•Remote                        NaN          Remote   \n",
       "2       Pune, Maharashtra•Remote  ₹20,000 - ₹30,000 a month          Remote   \n",
       "3                          India                        NaN          Office   \n",
       "4              Pune, Maharashtra                        NaN          Office   \n",
       "..                           ...                        ...             ...   \n",
       "265                       Remote                        NaN          Remote   \n",
       "266         Hyderabad, Telangana                        NaN          Office   \n",
       "267         Bengaluru, Karnataka                        NaN          Office   \n",
       "268           Faridabad, Haryana  ₹30,000 - ₹70,000 a month          Office   \n",
       "269         Bengaluru, Karnataka                        NaN          Office   \n",
       "\n",
       "     new_salary  \n",
       "0           NaN  \n",
       "1           NaN  \n",
       "2       25000.0  \n",
       "3           NaN  \n",
       "4           NaN  \n",
       "..          ...  \n",
       "265         NaN  \n",
       "266         NaN  \n",
       "267         NaN  \n",
       "268     50000.0  \n",
       "269         NaN  \n",
       "\n",
       "[270 rows x 8 columns]"
      ]
     },
     "execution_count": 105,
     "metadata": {},
     "output_type": "execute_result"
    }
   ],
   "source": [
    "import re\n",
    "new_salary= []\n",
    "for i in range(270):\n",
    "    string= df['salary'][i]\n",
    "    if type(string)==float:\n",
    "        new_salary.append(None)\n",
    "    else:\n",
    "        string = string.replace(\",\",'')\n",
    "        string = string.replace(\"-\",' ')\n",
    "        length = len(re.findall(\"₹\", string))\n",
    "        if(length==2): # this condition is for salaries which are in range\n",
    "            if 'month' in string:\n",
    "                x = string.split('₹')[1].split(' ')[0]\n",
    "                y = string.split('₹')[2].split(' ')[0]\n",
    "                salary_amount=(int(x)+ int(y))/2\n",
    "                new_salary.append(int(salary_amount))\n",
    "            else: #for yearly based salary\n",
    "                x = string.split('₹')[1].split(' ')[0]\n",
    "                y = string.split('₹')[2].split(' ')[0]            \n",
    "                salary_amount=(int(x)+ int(y))/2\n",
    "                salary_amount= salary_amount / 12\n",
    "                new_salary.append(salary_amount)\n",
    "        else:\n",
    "            if 'month' in string:\n",
    "                salary_amount = string.split('₹')[1].split(' ')[0]\n",
    "                new_salary.append(int(salary_amount))\n",
    "            else: #for yearly based salary\n",
    "                salary_amount = string.split('₹')[1].split(' ')[0]\n",
    "                salary_amount= int(x) / 12\n",
    "                new_salary.append(salary_amount)\n",
    "\n",
    "df[\"new_salary\"]=new_salary   \n",
    "df\n",
    "\n",
    "\n"
   ]
  },
  {
   "cell_type": "code",
   "execution_count": 106,
   "id": "6231b326",
   "metadata": {},
   "outputs": [
    {
     "data": {
      "text/html": [
       "<div>\n",
       "<style scoped>\n",
       "    .dataframe tbody tr th:only-of-type {\n",
       "        vertical-align: middle;\n",
       "    }\n",
       "\n",
       "    .dataframe tbody tr th {\n",
       "        vertical-align: top;\n",
       "    }\n",
       "\n",
       "    .dataframe thead th {\n",
       "        text-align: right;\n",
       "    }\n",
       "</style>\n",
       "<table border=\"1\" class=\"dataframe\">\n",
       "  <thead>\n",
       "    <tr style=\"text-align: right;\">\n",
       "      <th></th>\n",
       "      <th>profile</th>\n",
       "      <th>company</th>\n",
       "      <th>rating</th>\n",
       "      <th>location</th>\n",
       "      <th>Remote_location</th>\n",
       "      <th>new_salary</th>\n",
       "    </tr>\n",
       "  </thead>\n",
       "  <tbody>\n",
       "    <tr>\n",
       "      <th>0</th>\n",
       "      <td>Associate Analyst - Quality Control</td>\n",
       "      <td>Johnson &amp; Johnson Family of Companies</td>\n",
       "      <td>4.2</td>\n",
       "      <td>Mumbai, Maharashtra</td>\n",
       "      <td>Office</td>\n",
       "      <td>NaN</td>\n",
       "    </tr>\n",
       "    <tr>\n",
       "      <th>1</th>\n",
       "      <td>Data science || Freelancer</td>\n",
       "      <td>Logiccircle Pvt Ltd</td>\n",
       "      <td>NaN</td>\n",
       "      <td>Noida, Uttar Pradesh•Remote</td>\n",
       "      <td>Remote</td>\n",
       "      <td>NaN</td>\n",
       "    </tr>\n",
       "    <tr>\n",
       "      <th>2</th>\n",
       "      <td>Design and Development Associate</td>\n",
       "      <td>Life-Lab</td>\n",
       "      <td>NaN</td>\n",
       "      <td>Pune, Maharashtra•Remote</td>\n",
       "      <td>Remote</td>\n",
       "      <td>25000.0</td>\n",
       "    </tr>\n",
       "    <tr>\n",
       "      <th>3</th>\n",
       "      <td>JUNIOR DATA ANALYST – INTERNSHIP</td>\n",
       "      <td>impress.ai</td>\n",
       "      <td>NaN</td>\n",
       "      <td>India</td>\n",
       "      <td>Office</td>\n",
       "      <td>NaN</td>\n",
       "    </tr>\n",
       "    <tr>\n",
       "      <th>4</th>\n",
       "      <td>Data Analyst_Research, Excel</td>\n",
       "      <td>Springer Nature</td>\n",
       "      <td>3.6</td>\n",
       "      <td>Pune, Maharashtra</td>\n",
       "      <td>Office</td>\n",
       "      <td>NaN</td>\n",
       "    </tr>\n",
       "    <tr>\n",
       "      <th>...</th>\n",
       "      <td>...</td>\n",
       "      <td>...</td>\n",
       "      <td>...</td>\n",
       "      <td>...</td>\n",
       "      <td>...</td>\n",
       "      <td>...</td>\n",
       "    </tr>\n",
       "    <tr>\n",
       "      <th>265</th>\n",
       "      <td>Associate Analyst - OCT - Remote, WFH (Based i...</td>\n",
       "      <td>Larvol</td>\n",
       "      <td>NaN</td>\n",
       "      <td>Remote</td>\n",
       "      <td>Remote</td>\n",
       "      <td>NaN</td>\n",
       "    </tr>\n",
       "    <tr>\n",
       "      <th>266</th>\n",
       "      <td>Senior Analyst- APLD, Data Science</td>\n",
       "      <td>Novartis</td>\n",
       "      <td>4.1</td>\n",
       "      <td>Hyderabad, Telangana</td>\n",
       "      <td>Office</td>\n",
       "      <td>NaN</td>\n",
       "    </tr>\n",
       "    <tr>\n",
       "      <th>267</th>\n",
       "      <td>Software Development Engineer II</td>\n",
       "      <td>Ola Cabs</td>\n",
       "      <td>3.6</td>\n",
       "      <td>Bengaluru, Karnataka</td>\n",
       "      <td>Office</td>\n",
       "      <td>NaN</td>\n",
       "    </tr>\n",
       "    <tr>\n",
       "      <th>268</th>\n",
       "      <td>Assistant Professor in Computer Science</td>\n",
       "      <td>Lingaya's Vidyapeeth</td>\n",
       "      <td>5.0</td>\n",
       "      <td>Faridabad, Haryana</td>\n",
       "      <td>Office</td>\n",
       "      <td>50000.0</td>\n",
       "    </tr>\n",
       "    <tr>\n",
       "      <th>269</th>\n",
       "      <td>Data Scientist I</td>\n",
       "      <td>EagleView</td>\n",
       "      <td>NaN</td>\n",
       "      <td>Bengaluru, Karnataka</td>\n",
       "      <td>Office</td>\n",
       "      <td>NaN</td>\n",
       "    </tr>\n",
       "  </tbody>\n",
       "</table>\n",
       "<p>270 rows × 6 columns</p>\n",
       "</div>"
      ],
      "text/plain": [
       "                                               profile  \\\n",
       "0                  Associate Analyst - Quality Control   \n",
       "1                           Data science || Freelancer   \n",
       "2                     Design and Development Associate   \n",
       "3                     JUNIOR DATA ANALYST – INTERNSHIP   \n",
       "4                         Data Analyst_Research, Excel   \n",
       "..                                                 ...   \n",
       "265  Associate Analyst - OCT - Remote, WFH (Based i...   \n",
       "266                 Senior Analyst- APLD, Data Science   \n",
       "267                   Software Development Engineer II   \n",
       "268            Assistant Professor in Computer Science   \n",
       "269                                   Data Scientist I   \n",
       "\n",
       "                                   company  rating  \\\n",
       "0    Johnson & Johnson Family of Companies     4.2   \n",
       "1                      Logiccircle Pvt Ltd     NaN   \n",
       "2                                 Life-Lab     NaN   \n",
       "3                               impress.ai     NaN   \n",
       "4                          Springer Nature     3.6   \n",
       "..                                     ...     ...   \n",
       "265                                 Larvol     NaN   \n",
       "266                               Novartis     4.1   \n",
       "267                               Ola Cabs     3.6   \n",
       "268                   Lingaya's Vidyapeeth     5.0   \n",
       "269                              EagleView     NaN   \n",
       "\n",
       "                        location Remote_location  new_salary  \n",
       "0            Mumbai, Maharashtra          Office         NaN  \n",
       "1    Noida, Uttar Pradesh•Remote          Remote         NaN  \n",
       "2       Pune, Maharashtra•Remote          Remote     25000.0  \n",
       "3                          India          Office         NaN  \n",
       "4              Pune, Maharashtra          Office         NaN  \n",
       "..                           ...             ...         ...  \n",
       "265                       Remote          Remote         NaN  \n",
       "266         Hyderabad, Telangana          Office         NaN  \n",
       "267         Bengaluru, Karnataka          Office         NaN  \n",
       "268           Faridabad, Haryana          Office     50000.0  \n",
       "269         Bengaluru, Karnataka          Office         NaN  \n",
       "\n",
       "[270 rows x 6 columns]"
      ]
     },
     "execution_count": 106,
     "metadata": {},
     "output_type": "execute_result"
    }
   ],
   "source": [
    "df.drop(['salary','Unnamed: 0'],axis=1,inplace=True)\n",
    "df"
   ]
  },
  {
   "cell_type": "code",
   "execution_count": 123,
   "id": "8790f2d4",
   "metadata": {},
   "outputs": [
    {
     "name": "stdout",
     "output_type": "stream",
     "text": [
      "<class 'pandas.core.frame.DataFrame'>\n",
      "RangeIndex: 270 entries, 0 to 269\n",
      "Data columns (total 6 columns):\n",
      " #   Column           Non-Null Count  Dtype  \n",
      "---  ------           --------------  -----  \n",
      " 0   profile          270 non-null    object \n",
      " 1   company          270 non-null    object \n",
      " 2   rating           160 non-null    float64\n",
      " 3   location         270 non-null    object \n",
      " 4   Remote_location  270 non-null    object \n",
      " 5   new_salary       57 non-null     float64\n",
      "dtypes: float64(2), object(4)\n",
      "memory usage: 12.8+ KB\n"
     ]
    }
   ],
   "source": [
    "df.info()"
   ]
  },
  {
   "cell_type": "markdown",
   "id": "0161af86",
   "metadata": {},
   "source": [
    "# Data Visualization"
   ]
  },
  {
   "cell_type": "code",
   "execution_count": 107,
   "id": "1cbf72f5",
   "metadata": {
    "scrolled": false
   },
   "outputs": [
    {
     "data": {
      "image/png": "[encoded data removed]",
      "text/plain": [
       "<Figure size 504x504 with 2 Axes>"
      ]
     },
     "metadata": {
      "needs_background": "light"
     },
     "output_type": "display_data"
    }
   ],
   "source": [
    "#check null values using heatmap for each column\n",
    "plt.figure(figsize=(7,7))\n",
    "sns.heatmap(df.isnull(),annot=True,cmap='Oranges')\n",
    "plt.show()"
   ]
  },
  {
   "cell_type": "markdown",
   "id": "2e5aae94",
   "metadata": {},
   "source": [
    "from the above heatmap in 'new_salary' column we conclude that the many company had not disclose their salary. And also there are various companies whoes rating is not mentioned. "
   ]
  },
  {
   "cell_type": "code",
   "execution_count": 108,
   "id": "c13a16cb",
   "metadata": {},
   "outputs": [
    {
     "data": {
      "image/png": "[encoded data removed]",
      "text/plain": [
       "<Figure size 432x288 with 1 Axes>"
      ]
     },
     "metadata": {},
     "output_type": "display_data"
    }
   ],
   "source": [
    "#top 5 job profile\n",
    "df['profile'].value_counts().head(5).plot(kind='pie',autopct='%1.1f%%',explode=(0.1,0.1,0,0,0))\n",
    "plt.show()"
   ]
  },
  {
   "cell_type": "code",
   "execution_count": 109,
   "id": "ed90c1bb",
   "metadata": {},
   "outputs": [
    {
     "data": {
      "text/plain": [
       "<AxesSubplot:>"
      ]
     },
     "execution_count": 109,
     "metadata": {},
     "output_type": "execute_result"
    },
    {
     "data": {
      "image/png": "[encoded data removed]",
      "text/plain": [
       "<Figure size 432x288 with 1 Axes>"
      ]
     },
     "metadata": {
      "needs_background": "light"
     },
     "output_type": "display_data"
    }
   ],
   "source": [
    "#company who has maximum number of job.\n",
    "df['company'].value_counts().head(10).plot(kind='bar')"
   ]
  },
  {
   "cell_type": "code",
   "execution_count": 110,
   "id": "f8f30eaf",
   "metadata": {},
   "outputs": [
    {
     "data": {
      "image/png": "[encoded data removed]",
      "text/plain": [
       "<Figure size 1440x720 with 1 Axes>"
      ]
     },
     "metadata": {
      "needs_background": "light"
     },
     "output_type": "display_data"
    }
   ],
   "source": [
    "plt.figure(figsize=(20,10))\n",
    "sns.countplot(data=df,x='location')\n",
    "plt.xticks(rotation=90)\n",
    "plt.show()"
   ]
  },
  {
   "cell_type": "code",
   "execution_count": 111,
   "id": "61192e3b",
   "metadata": {},
   "outputs": [
    {
     "data": {
      "image/png": "[encoded data removed]",
      "text/plain": [
       "<Figure size 432x288 with 1 Axes>"
      ]
     },
     "metadata": {
      "needs_background": "light"
     },
     "output_type": "display_data"
    }
   ],
   "source": [
    "#countplot fo rating\n",
    "sns.countplot(data=df,x='rating',palette='BuPu')\n",
    "plt.show()"
   ]
  },
  {
   "cell_type": "code",
   "execution_count": 112,
   "id": "f9e4ccae",
   "metadata": {},
   "outputs": [
    {
     "data": {
      "image/png": "[encoded data removed]",
      "text/plain": [
       "<Figure size 432x288 with 1 Axes>"
      ]
     },
     "metadata": {
      "needs_background": "light"
     },
     "output_type": "display_data"
    }
   ],
   "source": [
    "plt.scatter(x=df['Remote_location'],y=df['rating'])\n",
    "plt.xticks(rotation=90)\n",
    "plt.show()\n"
   ]
  },
  {
   "cell_type": "code",
   "execution_count": 113,
   "id": "2ee700c5",
   "metadata": {},
   "outputs": [
    {
     "data": {
      "image/png": "[encoded data removed]",
      "text/plain": [
       "<Figure size 432x288 with 1 Axes>"
      ]
     },
     "metadata": {
      "needs_background": "light"
     },
     "output_type": "display_data"
    }
   ],
   "source": [
    "plt.scatter(x=df['new_salary'],y=df['rating'])\n",
    "plt.xticks(rotation=90)\n",
    "plt.show()"
   ]
  },
  {
   "cell_type": "code",
   "execution_count": 114,
   "id": "cb087738",
   "metadata": {},
   "outputs": [
    {
     "data": {
      "image/png": "[encoded data removed]",
      "text/plain": [
       "<Figure size 432x288 with 1 Axes>"
      ]
     },
     "metadata": {},
     "output_type": "display_data"
    }
   ],
   "source": [
    "df['new_salary'].value_counts().head(5).plot(kind='pie',autopct='%1.1f%%')\n",
    "plt.show()"
   ]
  },
  {
   "cell_type": "code",
   "execution_count": 115,
   "id": "57fb8de5",
   "metadata": {},
   "outputs": [
    {
     "data": {
      "text/plain": [
       "5.0"
      ]
     },
     "execution_count": 115,
     "metadata": {},
     "output_type": "execute_result"
    }
   ],
   "source": [
    "df['rating'].max()"
   ]
  },
  {
   "cell_type": "code",
   "execution_count": 119,
   "id": "3b7d5089",
   "metadata": {},
   "outputs": [
    {
     "data": {
      "text/plain": [
       "2.0"
      ]
     },
     "execution_count": 119,
     "metadata": {},
     "output_type": "execute_result"
    }
   ],
   "source": [
    "df['rating'].min()"
   ]
  },
  {
   "cell_type": "code",
   "execution_count": 116,
   "id": "41c8ae84",
   "metadata": {},
   "outputs": [
    {
     "data": {
      "text/plain": [
       "312500.0"
      ]
     },
     "execution_count": 116,
     "metadata": {},
     "output_type": "execute_result"
    }
   ],
   "source": [
    "df['new_salary'].max()"
   ]
  },
  {
   "cell_type": "code",
   "execution_count": 122,
   "id": "58c2d8a4",
   "metadata": {},
   "outputs": [
    {
     "data": {
      "text/plain": [
       "2083.0"
      ]
     },
     "execution_count": 122,
     "metadata": {},
     "output_type": "execute_result"
    }
   ],
   "source": [
    "df['new_salary'].min()"
   ]
  },
  {
   "cell_type": "code",
   "execution_count": null,
   "id": "a20d11f9",
   "metadata": {},
   "outputs": [],
   "source": [
    "df.iloc[df[]]"
   ]
  },
  {
   "cell_type": "code",
   "execution_count": 133,
   "id": "ba87eed4",
   "metadata": {},
   "outputs": [
    {
     "data": {
      "text/html": [
       "<div>\n",
       "<style scoped>\n",
       "    .dataframe tbody tr th:only-of-type {\n",
       "        vertical-align: middle;\n",
       "    }\n",
       "\n",
       "    .dataframe tbody tr th {\n",
       "        vertical-align: top;\n",
       "    }\n",
       "\n",
       "    .dataframe thead th {\n",
       "        text-align: right;\n",
       "    }\n",
       "</style>\n",
       "<table border=\"1\" class=\"dataframe\">\n",
       "  <thead>\n",
       "    <tr style=\"text-align: right;\">\n",
       "      <th></th>\n",
       "      <th>profile</th>\n",
       "      <th>company</th>\n",
       "      <th>rating</th>\n",
       "      <th>location</th>\n",
       "      <th>Remote_location</th>\n",
       "      <th>new_salary</th>\n",
       "    </tr>\n",
       "  </thead>\n",
       "  <tbody>\n",
       "    <tr>\n",
       "      <th>54</th>\n",
       "      <td>Data Scientist</td>\n",
       "      <td>Redian Software</td>\n",
       "      <td>NaN</td>\n",
       "      <td>Gurgaon, Haryana</td>\n",
       "      <td>Office</td>\n",
       "      <td>2083.0</td>\n",
       "    </tr>\n",
       "  </tbody>\n",
       "</table>\n",
       "</div>"
      ],
      "text/plain": [
       "           profile          company  rating          location Remote_location  \\\n",
       "54  Data Scientist  Redian Software     NaN  Gurgaon, Haryana          Office   \n",
       "\n",
       "    new_salary  \n",
       "54      2083.0  "
      ]
     },
     "execution_count": 133,
     "metadata": {},
     "output_type": "execute_result"
    }
   ],
   "source": [
    "df.loc[df['new_salary'] == 2083.0]"
   ]
  },
  {
   "cell_type": "code",
   "execution_count": 118,
   "id": "b4521c00",
   "metadata": {},
   "outputs": [
    {
     "data": {
      "text/plain": [
       "<AxesSubplot:>"
      ]
     },
     "execution_count": 118,
     "metadata": {},
     "output_type": "execute_result"
    },
    {
     "data": {
      "image/png": "[encoded data removed]",
      "text/plain": [
       "<Figure size 432x288 with 1 Axes>"
      ]
     },
     "metadata": {
      "needs_background": "light"
     },
     "output_type": "display_data"
    }
   ],
   "source": [
    "df['Remote_location'].value_counts().plot(kind='bar')"
   ]
  },
  {
   "cell_type": "code",
   "execution_count": null,
   "id": "497ef7ce",
   "metadata": {},
   "outputs": [],
   "source": []
  }
 ],
 "metadata": {
  "kernelspec": {
   "display_name": "Python 3",
   "language": "python",
   "name": "python3"
  },
  "language_info": {
   "codemirror_mode": {
    "name": "ipython",
    "version": 3
   },
   "file_extension": ".py",
   "mimetype": "text/x-python",
   "name": "python",
   "nbconvert_exporter": "python",
   "pygments_lexer": "ipython3",
   "version": "3.8.8"
  }
 },
 "nbformat": 4,
 "nbformat_minor": 5
}
